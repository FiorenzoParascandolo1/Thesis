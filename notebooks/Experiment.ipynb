{
  "nbformat": 4,
  "nbformat_minor": 0,
  "metadata": {
    "colab": {
      "name": "Untitled38.ipynb",
      "provenance": [],
      "collapsed_sections": [],
      "authorship_tag": "ABX9TyM1SRb5cudJyQE9XaViTJDn",
      "include_colab_link": true
    },
    "kernelspec": {
      "name": "python3",
      "display_name": "Python 3"
    },
    "language_info": {
      "name": "python"
    }
  },
  "cells": [
    {
      "cell_type": "markdown",
      "metadata": {
        "id": "view-in-github",
        "colab_type": "text"
      },
      "source": [
        "<a href=\"https://colab.research.google.com/github/FiorenzoParascandolo1/Thesis/blob/main/notebooks/Experiment.ipynb\" target=\"_parent\"><img src=\"https://colab.research.google.com/assets/colab-badge.svg\" alt=\"Open In Colab\"/></a>"
      ]
    },
    {
      "cell_type": "code",
      "metadata": {
        "id": "nj0FjgLOWF59",
        "outputId": "ef907cff-8958-4c34-c8a3-0e8445ddf25d",
        "colab": {
          "base_uri": "https://localhost:8080/"
        }
      },
      "source": [
        "!git clone https://github.com/FiorenzoParascandolo1/Thesis\n",
        "\n",
        "import sys\n",
        "sys.path.append('Thesis')"
      ],
      "execution_count": 1,
      "outputs": [
        {
          "output_type": "stream",
          "name": "stdout",
          "text": [
            "Cloning into 'Thesis'...\n",
            "remote: Enumerating objects: 249, done.\u001b[K\n",
            "remote: Counting objects: 100% (249/249), done.\u001b[K\n",
            "remote: Compressing objects: 100% (159/159), done.\u001b[K\n",
            "remote: Total 249 (delta 84), reused 213 (delta 62), pack-reused 0\u001b[K\n",
            "Receiving objects: 100% (249/249), 5.15 MiB | 2.06 MiB/s, done.\n",
            "Resolving deltas: 100% (84/84), done.\n"
          ]
        }
      ]
    },
    {
      "cell_type": "code",
      "metadata": {
        "id": "C_tEGy_cWSNh"
      },
      "source": [
        "%%capture\n",
        "!pip install gym_anytrading\n",
        "!pip install pyts\n",
        "!pip install hurst"
      ],
      "execution_count": 8,
      "outputs": []
    },
    {
      "cell_type": "code",
      "metadata": {
        "id": "f1ThPb7dCdMU"
      },
      "source": [
        "from src.simulation.training import training_loop\n",
        "\n",
        "def main():\n",
        "    params = {\n",
        "        'FileName': \"/content/Thesis/src/simulation/TSLA.csv\",\n",
        "        'EnvType': \"stocks-v0\",\n",
        "        'WindowSize': 242,\n",
        "        'Lr': 1e-4,\n",
        "        'Periods': [1, 2, 3, 4, 5, 6, 7, 8],\n",
        "        'Pixels': 30,\n",
        "        'EpsClip': 0.1,\n",
        "        'Gamma': 0.99,\n",
        "        'LenMemory': 451,\n",
        "        'Horizon': 45,\n",
        "        'UpdateTimestamp': 90,\n",
        "        'Wallet': 129562}\n",
        "\n",
        "    training_loop(params)\n",
        "\n",
        "\n",
        "if __name__ == \"__main__\":\n",
        "    main()"
      ],
      "execution_count": null,
      "outputs": []
    }
  ]
}