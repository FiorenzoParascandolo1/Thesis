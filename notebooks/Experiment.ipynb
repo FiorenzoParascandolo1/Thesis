{
  "nbformat": 4,
  "nbformat_minor": 0,
  "metadata": {
    "colab": {
      "name": "Untitled38.ipynb",
      "provenance": [],
      "collapsed_sections": [],
      "authorship_tag": "ABX9TyN/iF5z3/HaNb7/w1zbAnyK",
      "include_colab_link": true
    },
    "kernelspec": {
      "name": "python3",
      "display_name": "Python 3"
    },
    "language_info": {
      "name": "python"
    }
  },
  "cells": [
    {
      "cell_type": "markdown",
      "metadata": {
        "id": "view-in-github",
        "colab_type": "text"
      },
      "source": [
        "<a href=\"https://colab.research.google.com/github/FiorenzoParascandolo1/Thesis/blob/main/notebooks/Experiment.ipynb\" target=\"_parent\"><img src=\"https://colab.research.google.com/assets/colab-badge.svg\" alt=\"Open In Colab\"/></a>"
      ]
    },
    {
      "cell_type": "code",
      "metadata": {
        "id": "nj0FjgLOWF59",
        "outputId": "5ee0c73f-6b48-452b-a3ee-cc7aedd73c39",
        "colab": {
          "base_uri": "https://localhost:8080/"
        }
      },
      "source": [
        "!git clone https://github.com/FiorenzoParascandolo1/Thesis\n",
        "\n",
        "import sys\n",
        "sys.path.append('Thesis')"
      ],
      "execution_count": 1,
      "outputs": [
        {
          "output_type": "stream",
          "name": "stdout",
          "text": [
            "Cloning into 'Thesis'...\n",
            "remote: Enumerating objects: 405, done.\u001b[K\n",
            "remote: Counting objects: 100% (405/405), done.\u001b[K\n",
            "remote: Compressing objects: 100% (227/227), done.\u001b[K\n",
            "remote: Total 405 (delta 177), reused 341 (delta 130), pack-reused 0\u001b[K\n",
            "Receiving objects: 100% (405/405), 5.75 MiB | 13.93 MiB/s, done.\n",
            "Resolving deltas: 100% (177/177), done.\n"
          ]
        }
      ]
    },
    {
      "cell_type": "code",
      "metadata": {
        "id": "C_tEGy_cWSNh"
      },
      "source": [
        "%%capture\n",
        "!pip install gym_anytrading\n",
        "!pip install wandb\n",
        "!pip install pyts\n",
        "!pip install hurst"
      ],
      "execution_count": 2,
      "outputs": []
    },
    {
      "cell_type": "code",
      "metadata": {
        "id": "f1ThPb7dCdMU"
      },
      "source": [
        "from src.simulation.training import training_loop\n",
        "\n",
        "\n",
        "params = {\n",
        "    # Environment\n",
        "    'FileName': \"EURUSD_M5.csv\",\n",
        "    'EnvType': \"stocks-v0\",\n",
        "    'Render': False,\n",
        "    \"Explanations\": 10,\n",
        "    \"Pip\": 0.0000062 / 2,\n",
        "    \"Leverage\": False,\n",
        "\n",
        "    # Environment - Observations\n",
        "    'Periods': [1, 2, 3, 4, 5, 6, 7, 8],\n",
        "    'Pixels': 30,\n",
        "    'ManageSymmetries': True,\n",
        "\n",
        "    # Environment - Wallet\n",
        "    'WalletFactor': 1000000,\n",
        "    'BetSizeFactor': 0.34,\n",
        "\n",
        "    # Policy\n",
        "    'Architecture': \"LocallyConnected\",\n",
        "    'Lr': 1e-4,\n",
        "    'Epochs': 4,\n",
        "    'Gamma': 0.99,\n",
        "    'Lambda': 0.99,\n",
        "    'LenMemory': 570,\n",
        "    'Horizon': 45,\n",
        "    'UpdateTimestamp': 90,\n",
        "    'EpsClip': 0.1,\n",
        "    'ValueLossCoefficient': 0.5,\n",
        "    'EntropyLossCoefficient': 0.01\n",
        "    }\n",
        "\n",
        "\n",
        "def main():\n",
        "    training_loop(params)\n",
        "\n",
        "if __name__ == \"__main__\":\n",
        "    main()"
      ],
      "execution_count": null,
      "outputs": []
    }
  ]
}