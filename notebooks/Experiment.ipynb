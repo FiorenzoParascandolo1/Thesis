{
  "nbformat": 4,
  "nbformat_minor": 0,
  "metadata": {
    "colab": {
      "name": "Untitled38.ipynb",
      "provenance": [],
      "collapsed_sections": [],
      "authorship_tag": "ABX9TyPUPnkumK8zPK4V6+Ta8OXD",
      "include_colab_link": true
    },
    "kernelspec": {
      "name": "python3",
      "display_name": "Python 3"
    },
    "language_info": {
      "name": "python"
    }
  },
  "cells": [
    {
      "cell_type": "markdown",
      "metadata": {
        "id": "view-in-github",
        "colab_type": "text"
      },
      "source": [
        "<a href=\"https://colab.research.google.com/github/FiorenzoParascandolo1/Thesis/blob/main/Experiment.ipynb\" target=\"_parent\"><img src=\"https://colab.research.google.com/assets/colab-badge.svg\" alt=\"Open In Colab\"/></a>"
      ]
    },
    {
      "cell_type": "code",
      "metadata": {
        "id": "f1ThPb7dCdMU"
      },
      "source": [
        "from src.simulation.training import training_loop\n",
        "\n",
        "def main():\n",
        "    params = {\n",
        "        'FileName': \"TSLA.csv\",\n",
        "        'EnvType': \"stocks-v0\",\n",
        "        'WindowSize': 242,\n",
        "        'Lr': 1e-4,\n",
        "        'Periods': [1, 2, 3, 4, 5, 6, 7, 8],\n",
        "        'Pixels': 30,\n",
        "        'EpsClip': 0.1,\n",
        "        'Gamma': 0.99,\n",
        "        'LenMemory': 451,\n",
        "        'Horizon': 45,\n",
        "        'UpdateTimestamp': 90,\n",
        "        'Wallet': 129562}\n",
        "\n",
        "    training_loop(params)\n",
        "\n",
        "\n",
        "if __name__ == \"__main__\":\n",
        "    main()"
      ],
      "execution_count": null,
      "outputs": []
    }
  ]
}